{
  "cells": [
    {
      "cell_type": "markdown",
      "metadata": {
        "id": "view-in-github",
        "colab_type": "text"
      },
      "source": [
        "<a href=\"https://colab.research.google.com/github/gt-cse-6040/topic_07_MT2_SP23_1467/blob/main/Topic%2007%20MT2%20SP23%20for%20Skills%20OH%20solution%20ex%201467.ipynb\" target=\"_parent\"><img src=\"https://colab.research.google.com/assets/colab-badge.svg\" alt=\"Open In Colab\"/></a>"
      ]
    },
    {
      "cell_type": "markdown",
      "id": "d825be40",
      "metadata": {
        "nbgrader": {
          "grade": false,
          "locked": true,
          "solution": false
        },
        "tags": [
          "notebook_header"
        ],
        "id": "d825be40"
      },
      "source": [
        "# Midterm 2, Spring 2023: Better Reads\n",
        "\n",
        "_Version history:_\n",
        "- 1.0.1 (Sun Apr 2): Corrected typo in Ex. 7 demo\n",
        "- 1.0: Initial release\n",
        "\n",
        "*All of the header information is important. Please read it.*\n",
        "\n",
        "**Topics, number of exercises:** This problem builds on your knowledge of Numpy, pandas, database organization, graph abstractions, and basic Python (for interfacing with other Python libraries). It has **11** exercises, numbered 0 to **10**. There are **21** available points. However, to earn 100% the threshold is **12** points. (Therefore, once you hit **12** points, you can stop. There is no extra credit for exceeding this threshold.)\n",
        "\n",
        "**Free points!** This exam includes one exercise, Exercise 3, whose points are \"**free**.\" However, to get these points you need to read some text and _submit the notebook to the autograder at least once_.\n",
        "\n",
        "**Exercise ordering:** Each exercise builds logically on previous exercises, but you may solve them in any order. Exercises are **not** necessarily ordered by difficulty, but higher point values usually imply more difficult tasks.\n",
        "\n",
        "**Demo cells:** Code cells that start with the comment `### define demo inputs` will load results from prior exercises applied to the entire data set and use those to build demo inputs. These must be run for later demos to work properly but they do not affect the test cells. The data loaded by these cells may be large (at least in terms of human readability). You are free to inspect them, but we did not print them in the starter code.\n",
        "\n",
        "**Debugging you code:** Right before each exercise test cell, there is a block of text explaining the variables available to you for debugging. You may use these to test your code and can print/display them as needed (careful when printing large objects, you may want to print the head or chunks of rows at a time).\n",
        "\n",
        "**Exercise point breakdown:**\n",
        "\n",
        "- Exercise 0: **2** points\n",
        "- Exercise 1: **1** point\n",
        "- Exercise 2: **3** points\n",
        "- Exercise 3: **2** point **FREEBIE! Submit to record them**\n",
        "- Exercise 4: **1** point\n",
        "- Exercise 5: **2** points\n",
        "- Exercise 6: **2** points\n",
        "- Exercise 7: **1** point\n",
        "- Exercise 8: **3** points\n",
        "- Exercise 9: **2** points\n",
        "- Exercise 10: **2** points\n",
        "\n",
        "**Final reminders:**\n",
        "\n",
        "- Submit after **every exercise**\n",
        "- Review the generated grade report after you submit to see what errors were returned\n",
        "- Stay calm, skip problems as needed, and take short breaks at your leisure"
      ]
    },
    {
      "cell_type": "markdown",
      "id": "6019d2b8",
      "metadata": {
        "nbgrader": {
          "grade": false,
          "locked": true,
          "solution": false
        },
        "tags": [
          "topic_intro"
        ],
        "id": "6019d2b8"
      },
      "source": [
        "# Background: Better Reads #\n",
        "\n",
        "[Goodreads](https://www.goodreads.com/) is a website devoted to curating user-generated book reviews. You'll do some elementary data-mining to uncover \"communities\" of users who like the same books. Such insights might help users find like-minded communities and generate better book recommendations."
      ]
    },
    {
      "cell_type": "markdown",
      "id": "2fd80f0b",
      "metadata": {
        "ExecuteTime": {
          "end_time": "2023-03-29T13:30:23.592700Z",
          "start_time": "2023-03-29T13:30:23.585568Z"
        },
        "nbgrader": {
          "grade": false,
          "locked": true,
          "solution": false
        },
        "id": "2fd80f0b"
      },
      "source": [
        "**Overall workflow.** This notebook has six (6) parts with about 1-3 exercises each.\n",
        "* **Part A:** Analyze user-book interactions [SQL, pandas]\n",
        "* **Part B:** Power-law analysis [pandas, Numpy]\n",
        "* **Part C:** Edge lists, NetworkX, and graph clusters [Python, graphs]\n",
        "* **Part D:** Finding communities via graph clustering [SQL, pandas]\n",
        "* **Part E:** Identifying \"top reads\" by community [pandas]\n",
        "* **Part F:** Merging inventory metadata [pandas]"
      ]
    },
    {
      "cell_type": "markdown",
      "id": "e24f7633",
      "metadata": {
        "nbgrader": {
          "grade": false,
          "locked": true,
          "solution": false
        },
        "id": "e24f7633"
      },
      "source": [
        "# Getting started (modules) #\n",
        "\n",
        "Skim the code cell below and then run it. Take note of the standard preloaded modules, `numpy as np`, `pandas as pd`, and `sqlite3 as db`, any or all of which you may need to construct your solutions.\n",
        "\n",
        "The other functions are used by our demo and testing code. You can ignore them unless an exercise asks you to do otherwise."
      ]
    },
    {
      "cell_type": "code",
      "execution_count": null,
      "id": "a41ed5a8",
      "metadata": {
        "id": "a41ed5a8"
      },
      "outputs": [],
      "source": [
        "# uncomment in Google Colab\n",
        "# !python --version\n",
        "!pip install dill\n",
        "import dill as pickle"
      ]
    },
    {
      "cell_type": "code",
      "execution_count": null,
      "id": "e6c8b8a5",
      "metadata": {
        "ExecuteTime": {
          "end_time": "2023-03-30T22:24:11.441029Z",
          "start_time": "2023-03-30T22:24:11.074402Z"
        },
        "nbgrader": {
          "grade": false,
          "locked": true,
          "solution": false
        },
        "tags": [
          "global_imports"
        ],
        "id": "e6c8b8a5"
      },
      "outputs": [],
      "source": [
        "### Global Imports\n",
        "%load_ext autoreload\n",
        "%autoreload 2\n",
        "\n",
        "# Standard Python modules\n",
        "import sys\n",
        "import numpy as np\n",
        "import pandas as pd\n",
        "import sqlite3 as db\n",
        "import networkx as nx"
      ]
    },
    {
      "cell_type": "code",
      "execution_count": null,
      "id": "48d0a2c6",
      "metadata": {
        "id": "48d0a2c6"
      },
      "outputs": [],
      "source": [
        "### Global Imports\n",
        "# Some functionality needed by the notebook and demo cells:\n",
        "from pprint import pprint, pformat\n",
        "import math\n",
        "\n",
        "# === Iteration === #\n",
        "\n",
        "def isiter(x):\n",
        "    \"\"\"\n",
        "    Returns `True` if `x` is iterable.\n",
        "\n",
        "    Uses the \"duck typing\" method described here:\n",
        "    https://stackoverflow.com/questions/1952464/in-python-how-do-i-determine-if-an-object-is-iterable\n",
        "    \"\"\"\n",
        "    try:\n",
        "        iterator = iter(x)\n",
        "    except TypeError:\n",
        "        return False\n",
        "    return True\n",
        "\n",
        "def sample_iter(I, n=1, rng_or_seed=None, replace=False, safe=True):\n",
        "    from pandas import DataFrame\n",
        "    from numpy import ndarray, array\n",
        "\n",
        "    rng = get_rng(rng_or_seed, ret_type=False)\n",
        "    n_sample = min(n, len(I)) if safe else n\n",
        "    sample_locs = rng.choice(range(len(I)), size=n_sample, replace=replace)\n",
        "    if isinstance(I, DataFrame):\n",
        "        sample = I.iloc[sample_locs]\n",
        "    elif isinstance(I, ndarray) or isinstance(I, list):\n",
        "        sample = I[sample_locs]\n",
        "    elif isinstance(I, dict):\n",
        "        sample_values = list(I.keys())[sample_locs]\n",
        "        sample = {k: I[k] for k in sample_values}\n",
        "    else:\n",
        "        J = array(list(I))\n",
        "        sample = type(I)(J[sample_locs])\n",
        "    return sample\n",
        "\n",
        "# === Messages === #\n",
        "\n",
        "def status_msg(s, verbose=True, **kwargs):\n",
        "    if verbose:\n",
        "        print(s, **kwargs)\n",
        "\n",
        "# === pandas ===\n",
        "\n",
        "def subselect(df, col, values):\n",
        "    \"\"\"\n",
        "    Subselects rows of a `DataFrame` where the column `col`\n",
        "    contains any of the given `values`.\n",
        "\n",
        "    If `values` is a non-iterable object _or_ a `str`,\n",
        "    then this function treats it as a single value to\n",
        "    find.\n",
        "    \"\"\"\n",
        "    if not isinstance(values, str) and isiter(values):\n",
        "        return df[df[col].isin(values)]\n",
        "    return df[df[col] == values]\n",
        "\n",
        "# === Input/output === #\n",
        "\n",
        "# def text_to_file(s, basename, dirname='resource/asnlib/publicdata/', overwrite=True, verbose=True):\n",
        "def text_to_file(s, basename, dirname='', overwrite=True, verbose=True):\n",
        "    from os.path import isfile\n",
        "    filename = f\"{dirname}{basename}\"\n",
        "    status_msg(f\"Writing string to '{filename}'...\", verbose=verbose)\n",
        "    if not overwrite and isfile(filename):\n",
        "        status_msg(f\"  ==> File exists already; skipping.\", verbose=verbose)\n",
        "    else:\n",
        "        with open(filename, \"wt\") as fp:\n",
        "            fp.write(s)\n",
        "        status_msg(f\"  ==> Done!\", verbose=verbose)\n",
        "\n",
        "# def load_text_from_file(basename, dirname='resource/asnlib/publicdata/', abort_on_error=False, verbose=False):\n",
        "def load_text_from_file(basename, dirname='', abort_on_error=False, verbose=False):\n",
        "    from os.path import isfile\n",
        "    filename = f\"{dirname}{basename}\"\n",
        "    status_msg(f\"Loading string from '{filename}'...\", verbose=verbose)\n",
        "    if isfile(filename):\n",
        "        try:\n",
        "            with open(filename, \"rt\") as fp:\n",
        "                s = fp.read()\n",
        "            status_msg(f\"  ==> Done!\", verbose=verbose)\n",
        "        except:\n",
        "            if abort_on_error:\n",
        "                raise\n",
        "            else:\n",
        "                status_msg(f\"  ==> An error occurred.\", verbose=verbose)\n",
        "                s = ''\n",
        "    return s\n",
        "\n",
        "# def df_to_file(df, basename, dirname='resource/asnlib/publicdata/', overwrite=True, verbose=True):\n",
        "def df_to_file(df, basename, dirname='', overwrite=True, verbose=True):\n",
        "    from os.path import isfile\n",
        "    from dill import dumps\n",
        "    filename = f\"{dirname}{basename}\"\n",
        "    if verbose:\n",
        "        print(f\"Writing `DataFrame` to '{filename}'...\")\n",
        "    if not overwrite and isfile(filename):\n",
        "        print(f\"  ==> File exists already; skipping.\")\n",
        "    else:\n",
        "        with open(filename, \"wb\") as fp:\n",
        "            fp.write(dumps(df))\n",
        "        print(f\"  ==> Done!\")\n",
        "\n",
        "# def load_df_from_file(basename, dirname='resource/asnlib/publicdata/', abort_on_error=False, verbose=False):\n",
        "def load_df_from_file(basename, dirname='', abort_on_error=False, verbose=False):\n",
        "    from os.path import isfile\n",
        "    from dill import loads\n",
        "    from pandas import DataFrame\n",
        "    df = DataFrame()\n",
        "    filename = f\"{dirname}{basename}\"\n",
        "    status_msg(f\"Loading `DataFrame` from '{filename}'...\", verbose=verbose)\n",
        "    if isfile(filename):\n",
        "        try:\n",
        "            with open(filename, \"rb\") as fp:\n",
        "                df = loads(fp.read())\n",
        "            status_msg(f\"  ==> Done!\", verbose=verbose)\n",
        "        except:\n",
        "            if abort_on_error:\n",
        "                raise\n",
        "            else:\n",
        "                df = DataFrame()\n",
        "                status_msg(f\"  ==> An error occurred.\", verbose=verbose)\n",
        "    return df\n",
        "\n",
        "# def obj_to_file(df, basename, dirname='resource/asnlib/publicdata/', overwrite=True, verbose=True):\n",
        "def obj_to_file(df, basename, dirname='', overwrite=True, verbose=True):\n",
        "    from os.path import isfile\n",
        "    from dill import dumps\n",
        "    filename = f\"{dirname}{basename}\"\n",
        "    if verbose:\n",
        "        print(f\"Writing object (type `{type(df)}`) to '{filename}'...\")\n",
        "    if not overwrite and isfile(filename):\n",
        "        print(f\"  ==> File exists already; skipping.\")\n",
        "    else:\n",
        "        with open(filename, \"wb\") as fp:\n",
        "            fp.write(dumps(df))\n",
        "        print(f\"  ==> Done!\")\n",
        "\n",
        "# def load_obj_from_file(basename, dirname='resource/asnlib/publicdata/', abort_on_error=False, verbose=False):\n",
        "def load_obj_from_file(basename, dirname='', abort_on_error=False, verbose=False):\n",
        "    from os.path import isfile\n",
        "    from dill import loads\n",
        "    from pandas import DataFrame\n",
        "    filename = f\"{dirname}{basename}\"\n",
        "    status_msg(f\"Loading object from '{filename}'...\", verbose=verbose)\n",
        "    if isfile(filename):\n",
        "        try:\n",
        "            with open(filename, \"rb\") as fp:\n",
        "                df = loads(fp.read())\n",
        "            status_msg(f\"  ==> Done! Type: `{type(df)}`\", verbose=verbose)\n",
        "        except:\n",
        "            if abort_on_error:\n",
        "                raise\n",
        "            else:\n",
        "                df = DataFrame()\n",
        "                status_msg(f\"  ==> An error occurred.\", verbose=verbose)\n",
        "    else:\n",
        "        df = None\n",
        "    return df\n",
        "\n",
        "# def load_table_from_db(table_name, basename, dirname=\"resource/asnlib/publicdata/\", verbose=False):\n",
        "def load_table_from_db(table_name, basename, dirname=\"\", verbose=False):\n",
        "    from sqlite3 import connect\n",
        "    from pandas import read_sql\n",
        "    filename = f\"{dirname}{basename}\"\n",
        "    if verbose:\n",
        "        print(f\"Retrieving table `{table_name}` from SQLite3 DB `{filename}`...\")\n",
        "    conn = connect(f\"file:{filename}?mode=ro\", uri=True)\n",
        "    df = read_sql(f\"SELECT * FROM {table_name}\", conn)\n",
        "    conn.close()\n",
        "    if verbose:\n",
        "        print(f\"... done! Found {len(df)} rows.\")\n",
        "    return df\n",
        "\n",
        "# ==== RNGs ==== #\n",
        "\n",
        "# https://stackoverflow.com/questions/279561/what-is-the-python-equivalent-of-static-variables-inside-a-function\n",
        "def static_vars(**kwargs):\n",
        "    def decorate(func):\n",
        "        for k in kwargs:\n",
        "            setattr(func, k, kwargs[k])\n",
        "        return func\n",
        "    return decorate\n",
        "\n",
        "@static_vars(DEFAULT_RNG=None)\n",
        "def get_rng(rng_or_seed, ret_type=True):\n",
        "    \"\"\"\n",
        "    Returns a valid pseudorandom-number generator (RNG) object\n",
        "    based on how `rng_or_seed` is set:\n",
        "\n",
        "    - An integer: Creates a new RNG with the integer as a seed\n",
        "    - An existing RNG object: Returns the same object\n",
        "    - `None`: Returns a global \"default\" RNG, which is created\n",
        "      once at module initialization time.\n",
        "\n",
        "    If `ret_type` is set, this function also returns a descriptive\n",
        "    string saying which of the above cases applies. (The intent of\n",
        "    this string is for use in printing as part of debugging output.)\n",
        "    \"\"\"\n",
        "    # Initialize static variable, DEFAULT_RNG\n",
        "    from numpy.random import default_rng\n",
        "    if get_rng.DEFAULT_RNG is None:\n",
        "        get_rng.DEFAULT_RNG = default_rng(1_234_567_890)\n",
        "\n",
        "    if isinstance(rng_or_seed, int):\n",
        "        rng = default_rng(rng_or_seed)\n",
        "        rng_type = f'`default_rng({rng_or_seed})`'\n",
        "    elif rng_or_seed is None:\n",
        "        rng = get_rng.DEFAULT_RNG\n",
        "        rng_type = f'`DEFAULT_RNG` [{rng}]'\n",
        "    else:\n",
        "        rng = rng_or_seed # had better be a RNG\n",
        "        rng_type = f'User-supplied [{rng}]'\n",
        "\n",
        "    return (rng, rng_type) if ret_type else rng\n",
        "\n",
        "# ==== Plotting ==== #\n",
        "def plot_series_loglog(series, ax=None, figsize=(8, 8/16*9), **kwargs):\n",
        "    from matplotlib.pyplot import figure, gca\n",
        "    if ax is None:\n",
        "        fig = figure(figsize=figsize)\n",
        "        ax = gca()\n",
        "    x = series.index\n",
        "    y = series.values\n",
        "    ax.loglog(x, y, '.', **kwargs)\n",
        "    return ax\n",
        "\n",
        "def display_image_from_file(filename, verbose=False):\n",
        "    from IPython.display import Image\n",
        "    if verbose:\n",
        "        print(f\"Loading image, `{filename}` ...\")\n",
        "    display(Image(filename))\n",
        "    if verbose:\n",
        "        print(f\"... done! (Did it appear?)\")\n",
        "\n",
        "# ==== Graph / NetworkX interfacing ===== #\n",
        "\n",
        "def to_nx(edge_list):\n",
        "    from networkx import DiGraph\n",
        "    G = DiGraph()\n",
        "    G.add_weighted_edges_from(edge_list)\n",
        "    return G\n",
        "\n",
        "def graph_to_matrix(G):\n",
        "    try:\n",
        "        from networkx import to_scipy_sparse_array # Works in 3.0\n",
        "        return to_scipy_sparse_array(G)\n",
        "    except:\n",
        "        pass\n",
        "\n",
        "    try:\n",
        "        from networkx import to_scipy_sparse_matrix # Works in 2.5\n",
        "        return to_scipy_sparse_matrix(G)\n",
        "    except:\n",
        "        raise\n",
        "\n",
        "def graph_spy(G, style='matrix', ax=None, figsize=(6.5, 6.5), **kwargs):\n",
        "    from matplotlib.pyplot import figure, gca\n",
        "    from networkx import spring_layout, draw_networkx_nodes, draw_networkx_edges, draw_networkx_labels\n",
        "\n",
        "    if ax is None:\n",
        "        fig = figure(figsize=figsize)\n",
        "        ax = gca()\n",
        "\n",
        "    if style == 'matrix':\n",
        "        A = graph_to_matrix(G)\n",
        "        ax.spy(A, **kwargs)\n",
        "    else:\n",
        "        pos = spring_layout(G, seed=7)\n",
        "\n",
        "        # nodes\n",
        "        draw_networkx_nodes(G, pos) #, node_size=700)\n",
        "\n",
        "        # edges\n",
        "        elarge = [(u, v) for (u, v, d) in G.edges(data=True) if d[\"weight\"] >= 0.1]\n",
        "        esmall = [(u, v) for (u, v, d) in G.edges(data=True) if d[\"weight\"] < 0.1]\n",
        "        draw_networkx_edges(G, pos, edgelist=elarge, width=2)\n",
        "        draw_networkx_edges(G, pos, edgelist=esmall, width=0.5, alpha=0.5)\n",
        "\n",
        "        # node labels\n",
        "        draw_networkx_labels(G, pos, font_size=10, font_family=\"sans-serif\")\n",
        "        # edge weight labels\n",
        "#        edge_labels = nx.get_edge_attributes(G, \"weight\")\n",
        "#        nx.draw_networkx_edge_labels(G, pos, edge_labels)\n",
        "    return ax\n",
        "\n",
        "def detect_communities(G, seed=1_234):\n",
        "    from networkx.algorithms.community import louvain_communities\n",
        "    return louvain_communities(G, seed=seed)\n",
        "\n",
        "def random_clusters(nc, nvc, p_intra=0.5, p_inter=0.1, rng_or_seed=None, verbose=False):\n",
        "    rng = get_rng(rng_or_seed, ret_type=False)\n",
        "    n = nc * nvc\n",
        "    mv_intra = int(p_intra*nvc) + 1 # no. of intra-cluster edges per vertex\n",
        "    mv_inter = int(p_inter*n)       # no. of inter-cluster edges per vertex\n",
        "\n",
        "    if verbose:\n",
        "        print('Constructing a vertex-clustered graph with these properties:')\n",
        "        print(f'- Number of clusters: nc={nc}')\n",
        "        print(f'- Vertices per cluster: nvc={nvc}')\n",
        "        print(f'- Number of intra-cluster edges per vertex: {mv_intra} (p_intra={p_intra})')\n",
        "        print(f'- Number of inter-cluster edges per vertex: {mv_inter} (p_inter={p_inter})')\n",
        "        print(f'- RNG: {rng}')\n",
        "\n",
        "    V = set(range(n)) # `n` vertices\n",
        "    E = []\n",
        "    for c in range(nc):\n",
        "        V_c = set(range(c*nvc, (c+1)*nvc))\n",
        "        for v in V_c:\n",
        "            # Add intra-cluster edges for `v`\n",
        "            N_v = sample_iter(V_c - {v}, n=mv_intra, rng_or_seed=rng)\n",
        "            W_v = rng.random(size=len(N_v))\n",
        "            E += [(v, u, w) for u, w in zip(N_v, W_v)]\n",
        "\n",
        "            # Add inter-cluster edges for `v`\n",
        "            X_v = sample_iter(V - V_c, n=mv_inter, rng_or_seed=rng)\n",
        "            W_v = rng.random(size=len(X_v)) / 10.0 # make these edges weaker, too\n",
        "            E += [(v, u, w) for u, w in zip(X_v, W_v)]\n",
        "    return E"
      ]
    },
    {
      "cell_type": "code",
      "source": [
        "# import files\n",
        "!wget https://raw.githubusercontent.com/gt-cse-6040/topic_07_MT2_SP23_1467/main/demo_ex1.db\n",
        "!wget https://raw.githubusercontent.com/gt-cse-6040/topic_07_MT2_SP23_1467/main/demo_ex6.obj\n",
        "!wget https://raw.githubusercontent.com/gt-cse-6040/topic_07_MT2_SP23_1467/main/demo_ex7.db\n",
        "!wget https://raw.githubusercontent.com/gt-cse-6040/topic_07_MT2_SP23_1467/main/ex1-is_read.df\n",
        "!wget https://raw.githubusercontent.com/gt-cse-6040/topic_07_MT2_SP23_1467/main/ex1-is_reviewed.df\n",
        "!wget https://raw.githubusercontent.com/gt-cse-6040/topic_07_MT2_SP23_1467/main/goodreads.db\n",
        "!wget https://raw.githubusercontent.com/gt-cse-6040/topic_07_MT2_SP23_1467/main/tc_1\n",
        "!wget https://raw.githubusercontent.com/gt-cse-6040/topic_07_MT2_SP23_1467/main/tc_4\n",
        "!wget https://raw.githubusercontent.com/gt-cse-6040/topic_07_MT2_SP23_1467/main/tc_6\n",
        "!wget https://raw.githubusercontent.com/gt-cse-6040/topic_07_MT2_SP23_1467/main/tc_7\n",
        "!wget https://raw.githubusercontent.com/gt-cse-6040/topic_07_MT2_SP23_1467/main/ex1-rating.df\n",
        "!wget https://raw.githubusercontent.com/gt-cse-6040/topic_07_MT2_SP23_1467/main/ex1-user_id.df\n",
        "!wget https://raw.githubusercontent.com/gt-cse-6040/topic_07_MT2_SP23_1467/main/ex6-comms.df\n",
        "!wget https://raw.githubusercontent.com/gt-cse-6040/topic_07_MT2_SP23_1467/main/ex7-means.df\n",
        "!wget https://raw.githubusercontent.com/gt-cse-6040/topic_07_MT2_SP23_1467/main/ex7-sampler-input.df\n",
        "\n",
        "!mkdir tester_fw\n",
        "%cd tester_fw\n",
        "\n",
        "!wget https://raw.githubusercontent.com/gt-cse-6040/topic_07_MT2_SP23_1467/main/tester_fw/__init__.py\n",
        "!wget https://raw.githubusercontent.com/gt-cse-6040/topic_07_MT2_SP23_1467/main/tester_fw/test_utils.py\n",
        "!wget https://raw.githubusercontent.com/gt-cse-6040/topic_07_MT2_SP23_1467/main/tester_fw/testers.py\n",
        "\n",
        "%cd .."
      ],
      "metadata": {
        "id": "5Eo1ddkpNINt"
      },
      "id": "5Eo1ddkpNINt",
      "execution_count": null,
      "outputs": []
    },
    {
      "cell_type": "markdown",
      "id": "993eb8b7",
      "metadata": {
        "nbgrader": {
          "grade": false,
          "locked": true,
          "solution": false
        },
        "id": "993eb8b7"
      },
      "source": [
        "In case it's helpful, here are the versions of Python and standard modules you are using:"
      ]
    },
    {
      "cell_type": "code",
      "execution_count": null,
      "id": "5972849c",
      "metadata": {
        "ExecuteTime": {
          "end_time": "2023-03-30T22:24:11.460183Z",
          "start_time": "2023-03-30T22:24:11.442572Z"
        },
        "nbgrader": {
          "grade": false,
          "locked": true,
          "solution": false
        },
        "id": "5972849c"
      },
      "outputs": [],
      "source": [
        "print(\"* Python version: {}\".format(sys.version.replace('\\n', ' ')))\n",
        "print(f\"* Numpy version: {np.__version__}\")\n",
        "print(f\"* pandas version: {pd.__version__}\")\n",
        "print(f\"* sqlite3 version: {db.version}\")"
      ]
    },
    {
      "cell_type": "markdown",
      "id": "cdbd16b8",
      "metadata": {
        "nbgrader": {
          "grade": false,
          "locked": true,
          "solution": false
        },
        "id": "cdbd16b8"
      },
      "source": [
        "## pandas versus SQL ##\n",
        "\n",
        "The actual Goodreads data is provided via a SQLite3 database. However, only some exercises _require_ SQL; most exercises were designed with pandas in mind.\n",
        "\n",
        "Nevertheless, even some of the pandas exercises can be solved using SQL. The cell below defines the function, `dfs_to_conn`, which can be used to create in-memory database connections. If you pass in a dictionary mapping table names to pandas `DataFrame` objects, then `dfs_to_conn` will return a `sqlite3` connection with all of the data in the `DataFrame` objects available under the names given as keys. You are also free to write to the in-memory database by creating tables, inserting, deleting, updating records, etc. Anything that SQLite3 allows should work."
      ]
    },
    {
      "cell_type": "markdown",
      "id": "e45da6d8",
      "metadata": {
        "nbgrader": {
          "grade": false,
          "locked": true,
          "solution": false
        },
        "id": "e45da6d8"
      },
      "source": [
        "**Example:**\n",
        "\n",
        "```python\n",
        "    my_df = pd.DataFrame({'A':[1,2,3], 'B': [4,5,6], 'C':['x', 'y', 'z']})\n",
        "    print(my_df)\n",
        "    #    A  B  C\n",
        "    # 0  1  4  x\n",
        "    # 1  2  5  y\n",
        "    # 2  3  6  z\n",
        "    conn = dfs_to_conn({'my_table': my_df})\n",
        "    cur = conn.cursor()\n",
        "    cur.execute('select A, B, C from my_table')\n",
        "    result = cur.fetchall()\n",
        "    conn.close()\n",
        "    print(result) # list of tuples, each tuple is a row\n",
        "    #[(1, 4, 'x'), (2, 5, 'y'), (3, 6, 'z')]\n",
        "```"
      ]
    },
    {
      "cell_type": "code",
      "execution_count": null,
      "id": "da4f3479",
      "metadata": {
        "ExecuteTime": {
          "end_time": "2023-03-30T22:24:11.482085Z",
          "start_time": "2023-03-30T22:24:11.463647Z"
        },
        "nbgrader": {
          "grade": false,
          "locked": true,
          "solution": false
        },
        "id": "da4f3479"
      },
      "outputs": [],
      "source": [
        "def dfs_to_conn(conn_dfs, index=False):\n",
        "    import sqlite3\n",
        "    conn = sqlite3.connect(':memory:')\n",
        "    for table_name, df in conn_dfs.items():\n",
        "        df.to_sql(table_name, conn, if_exists='replace', index=index)\n",
        "    return conn"
      ]
    },
    {
      "cell_type": "markdown",
      "id": "149f9cbe",
      "metadata": {
        "nbgrader": {
          "grade": false,
          "locked": true,
          "solution": false
        },
        "id": "149f9cbe"
      },
      "source": [
        "# Goodreads Data (`grdbconn`) #"
      ]
    },
    {
      "cell_type": "markdown",
      "id": "2226954c",
      "metadata": {
        "nbgrader": {
          "grade": false,
          "locked": true,
          "solution": false
        },
        "id": "2226954c"
      },
      "source": [
        "Some of the Goodreads data is stored in a SQLite3 database. The code cell below opens a read-only connection to it named **`grdbconn`**.\n",
        "\n",
        "For now, don't worry about what's there. We will explain any tables you need in the exercises that use them."
      ]
    },
    {
      "cell_type": "code",
      "execution_count": null,
      "id": "98bfb68c",
      "metadata": {
        "ExecuteTime": {
          "end_time": "2023-03-30T22:24:11.501956Z",
          "start_time": "2023-03-30T22:24:11.483569Z"
        },
        "nbgrader": {
          "grade": false,
          "locked": true,
          "solution": false
        },
        "id": "98bfb68c"
      },
      "outputs": [],
      "source": [
        "# Goodreads database connection:\n",
        "# grdbconn = db.connect('file:resource/asnlib/publicdata/goodreads.db?mode=ro', uri=True)\n",
        "grdbconn = db.connect('file:goodreads.db?mode=ro', uri=True)"
      ]
    },
    {
      "cell_type": "markdown",
      "id": "182bf3bf",
      "metadata": {
        "nbgrader": {
          "grade": false,
          "locked": true,
          "solution": false
        },
        "id": "182bf3bf"
      },
      "source": [
        "# Part A: Analyzing user-book interactions #\n",
        "\n",
        "> Includes Exercise 0 (2 points) and Exercise 1 (1 point)."
      ]
    },
    {
      "cell_type": "markdown",
      "id": "7d3a8864",
      "metadata": {
        "nbgrader": {
          "grade": false,
          "locked": true,
          "solution": false
        },
        "id": "7d3a8864"
      },
      "source": [
        "The Goodreads dataset includes **user-book interactions.** An \"user-book interaction\" means the user \"did something\" with the book on the Goodreads website:\n",
        "\n",
        "- _Viewed_: The user looked at a book description and saved it to their personal library.\n",
        "- _Read_: The user marked the book as \"read.\"\n",
        "- _Rated_: The user gave the book a rating, from 1 to 5 stars.\n",
        "- _Reviewed_: The user wrote a public review of the book on the website."
      ]
    },
    {
      "cell_type": "markdown",
      "id": "cb68392b",
      "metadata": {
        "nbgrader": {
          "grade": false,
          "locked": true,
          "solution": false
        },
        "id": "cb68392b"
      },
      "source": [
        "These interactions are recorded in a SQL table called `Interactions`. Let's have a quick look for one of the users whose integer ID is `840218`:"
      ]
    },
    {
      "cell_type": "code",
      "execution_count": null,
      "id": "7883e954",
      "metadata": {
        "ExecuteTime": {
          "end_time": "2023-03-30T22:24:11.555813Z",
          "start_time": "2023-03-30T22:24:11.503006Z"
        },
        "nbgrader": {
          "grade": false,
          "locked": true,
          "solution": false
        },
        "id": "7883e954"
      },
      "outputs": [],
      "source": [
        "pd.read_sql(r\"SELECT * FROM Interactions WHERE user_id=830690\", grdbconn)"
      ]
    },
    {
      "cell_type": "markdown",
      "id": "be335380",
      "metadata": {
        "nbgrader": {
          "grade": false,
          "locked": true,
          "solution": false
        },
        "id": "be335380"
      },
      "source": [
        "Each row shows how this user interacted with some book. This user interacted with five books. However, they saved books `15396` (row 0) and `39407` (row 4) but did nothing else with them—that is, they did not read them, rate them, or review them.\n",
        "\n",
        "They did rate books `19990`, giving it `5` stars, as well as `19989`, giving it `3` stars. They also read `19988`, but they did not rate it. They did not review any book (`is_reviewed=0`). Had they done so, `is_reviewed` would be `1`. All values are integers."
      ]
    },
    {
      "cell_type": "markdown",
      "id": "29e42b25",
      "metadata": {
        "nbgrader": {
          "grade": false,
          "locked": true,
          "solution": false
        },
        "tags": [
          "exercise_text"
        ],
        "id": "29e42b25"
      },
      "source": [
        "## **Ex. 1 (1 pt)**: `count_interactions_by` ##\n",
        "\n",
        "Suppose we want to group the interactions and count the number by group. For example, we might want to know, for each unique user ID, how many interactions there are. Complete the function\n",
        "```python\n",
        "def count_interactions_by(col, conn):\n",
        "    ...\n",
        "```\n",
        "so that it does the following.\n",
        "\n",
        "**Inputs:**\n",
        "- `col`: The name of a column\n",
        "- `conn`: A database connection containing a table named `Interactions`\n",
        "\n",
        "**Your task:** For each unique value in column `'col'` of the `Interactions` table, count how many interactions (rows) there are.\n",
        "\n",
        "**Output:** Return a dataframe with two columns:\n",
        "- `col`: A column with the **same name** as the given input column holding the unique values\n",
        "- `'count'`: A column with the number of interactions for each unique value\n",
        "\n",
        "Refer to the demo cell below for an example of this output.\n",
        "\n",
        "**Additional notes and hints:** You may assume that `col` holds a valid column name. The exact order of rows and columns in your output does not matter.\n",
        "\n",
        "**Example:**"
      ]
    },
    {
      "cell_type": "code",
      "execution_count": null,
      "id": "e71eb763",
      "metadata": {
        "ExecuteTime": {
          "end_time": "2023-03-30T22:24:20.243973Z",
          "start_time": "2023-03-30T22:24:20.222115Z"
        },
        "nbgrader": {
          "grade": false,
          "locked": true,
          "solution": false
        },
        "tags": [
          "demo_data"
        ],
        "id": "e71eb763"
      },
      "outputs": [],
      "source": [
        "### Define demo inputs ###\n",
        "\n",
        "demo_col_ex1 = 'user_id'\n",
        "demo_conn_ex1 = db.connect(f'file:demo_ex1.db?mode=ro', uri=True)\n",
        "display(pd.read_sql(\"SELECT * FROM Interactions\", demo_conn_ex1))"
      ]
    },
    {
      "cell_type": "markdown",
      "id": "f94ed6d6",
      "metadata": {
        "nbgrader": {
          "grade": false,
          "locked": true,
          "solution": false
        },
        "tags": [
          "demo_output_md"
        ],
        "id": "f94ed6d6"
      },
      "source": [
        "Calling `count_interactions_by(demo_col_ex1, demo_conn_ex1)` should produce the following output:\n",
        "\n",
        "|   user_id |   count |\n",
        "|----------:|--------:|\n",
        "|    569241 |       3 |\n",
        "|    604656 |       1 |\n",
        "|    607817 |       4 |\n",
        "\n",
        "However, calling `count_interactions_by('is_read', demo_conn_ex1)` would return a two-row `DataFrame` where the count of `0` and `1` values is `4` each."
      ]
    },
    {
      "cell_type": "code",
      "execution_count": null,
      "id": "9d236dd7",
      "metadata": {
        "ExecuteTime": {
          "end_time": "2023-03-30T22:24:20.270275Z",
          "start_time": "2023-03-30T22:24:20.245024Z"
        },
        "tags": [
          "exercise_solution"
        ],
        "id": "9d236dd7"
      },
      "outputs": [],
      "source": [
        "### Exercise 1 solution\n",
        "def count_interactions_by(col, conn):\n",
        "    ### BEGIN SOLUTION\n",
        "    query = f\"SELECT {col}, COUNT(*) AS count FROM Interactions GROUP BY {col}\"\n",
        "    return pd.read_sql(query, conn)\n",
        "    ### END SOLUTION\n",
        "\n",
        "### demo function calls ###\n",
        "display(count_interactions_by(demo_col_ex1, demo_conn_ex1))\n",
        "display(count_interactions_by('is_read', demo_conn_ex1))"
      ]
    },
    {
      "cell_type": "markdown",
      "id": "52baa4fa",
      "metadata": {
        "nbgrader": {
          "grade": false,
          "locked": true,
          "solution": false
        },
        "tags": [
          "test_data_boilerplate"
        ],
        "id": "52baa4fa"
      },
      "source": [
        "<!-- Test Cell Boilerplate -->\n",
        "The cell below will test your solution for Exercise 1. The testing variables will be available for debugging under the following names in a dictionary format.\n",
        "- `input_vars` - Input variables for your solution.\n",
        "- `original_input_vars` - Copy of input variables from prior to running your solution. These _should_ be the same as `input_vars` - otherwise the inputs were modified by your solution.\n",
        "- `returned_output_vars` - Outputs returned by your solution.\n",
        "- `true_output_vars` - The expected output. This _should_ \"match\" `returned_output_vars` based on the question requirements - otherwise, your solution is not returning the correct output."
      ]
    },
    {
      "cell_type": "code",
      "execution_count": null,
      "id": "3a5aed4b",
      "metadata": {
        "ExecuteTime": {
          "end_time": "2023-03-30T22:24:21.216618Z",
          "start_time": "2023-03-30T22:24:21.020646Z"
        },
        "nbgrader": {
          "grade": true,
          "grade_id": "ex1",
          "locked": true,
          "points": "1",
          "solution": false
        },
        "tags": [],
        "id": "3a5aed4b"
      },
      "outputs": [],
      "source": [
        "### test_cell_ex1\n",
        "from tester_fw.testers import Tester\n",
        "\n",
        "conf = {\n",
        "    'case_file':'tc_1',\n",
        "    'func': count_interactions_by, # replace this with the function defined above\n",
        "    'inputs':{ # input config dict. keys are parameter names\n",
        "        'col': {\n",
        "            'dtype': 'str', # data type of param.\n",
        "            'check_modified': False,\n",
        "        },\n",
        "        'conn': {\n",
        "            'dtype': 'db',\n",
        "            'check_modified': False\n",
        "        }\n",
        "    },\n",
        "    'outputs':{\n",
        "        'output_0':{\n",
        "            'index':0,\n",
        "            'dtype':'df',\n",
        "            'check_dtype': True,\n",
        "            'check_col_dtypes': True, # Ignored if dtype is not df\n",
        "            'check_col_order': False, # Ignored if dtype is not df\n",
        "            'check_row_order': False, # Ignored if dtype is not df\n",
        "#            'check_column_type': True, # Ignored if dtype is not df\n",
        "            'float_tolerance': 10 ** (-6)\n",
        "        }\n",
        "    }\n",
        "}\n",
        "tester = Tester(conf, key=b'jpS7W-CpqAQfuITMEQZL-yVXfhIaCkSaei-emnyRtrI=', path='')\n",
        "for _ in range(70):\n",
        "    try:\n",
        "        tester.run_test()\n",
        "        (input_vars, original_input_vars, returned_output_vars, true_output_vars) = tester.get_test_vars()\n",
        "    except:\n",
        "        (input_vars, original_input_vars, returned_output_vars, true_output_vars) = tester.get_test_vars()\n",
        "        raise\n",
        "\n",
        "print('Passed! Please submit.')"
      ]
    },
    {
      "cell_type": "markdown",
      "id": "fb4482a3",
      "metadata": {
        "nbgrader": {
          "grade": false,
          "locked": true,
          "solution": false
        },
        "id": "fb4482a3"
      },
      "source": [
        "**RUN ME:** A correct implementation of `count_interactions_by`, when run on the full Goodreads dataset for the columns `is_read`, `rating`, and `is_reviewed`, would produce the following:"
      ]
    },
    {
      "cell_type": "code",
      "execution_count": null,
      "id": "062b37eb",
      "metadata": {
        "ExecuteTime": {
          "end_time": "2023-03-30T22:24:21.242951Z",
          "start_time": "2023-03-30T22:24:21.217668Z"
        },
        "nbgrader": {
          "grade": false,
          "locked": true,
          "solution": false
        },
        "id": "062b37eb"
      },
      "outputs": [],
      "source": [
        "print(f\"\\n=== `count_interactions_by` on the full dataset ===\\n\")\n",
        "for col_ in ['is_read', 'rating', 'is_reviewed']:\n",
        "    display(load_df_from_file(f\"ex1-{col_}.df\"))"
      ]
    },
    {
      "cell_type": "markdown",
      "id": "e77c092a",
      "metadata": {
        "nbgrader": {
          "grade": false,
          "locked": true,
          "solution": false
        },
        "id": "e77c092a"
      },
      "source": [
        "> **Aside (skip if pressed for time)**: From these results, you might observe a _hint_ at a phenomenon known as a [_monotonic behavior chain_](https://dl.acm.org/doi/10.1145/3240323.3240369): the total number of interactions > the number who read > the number who rate > the number who review. Such phenomena have been used to improve automatic generation of item recommendations."
      ]
    },
    {
      "cell_type": "markdown",
      "id": "964e1380",
      "metadata": {
        "nbgrader": {
          "grade": false,
          "locked": true,
          "solution": false
        },
        "id": "964e1380"
      },
      "source": [
        "# Part C: NetworkX 101 #\n",
        "\n",
        "> Includes Exercise 3 (the **freebie**; 2 points)."
      ]
    },
    {
      "cell_type": "markdown",
      "id": "db1d36dd",
      "metadata": {
        "nbgrader": {
          "grade": false,
          "locked": true,
          "solution": false
        },
        "tags": [
          "exercise_text"
        ],
        "id": "db1d36dd"
      },
      "source": [
        "Your next major task is to learn a little bit about **NetworkX**, a popular Python package for analyzing relational data (graphs with vertices and edges).\n",
        "\n",
        "**You do not have to write any code in this part; just read, learn, and enjoy! However, you do need to run Exercise 3's test cell and submit the exam to get its \"free\" points.**\n",
        "\n",
        "Also, do pay attention: subsequent exercises will use some of these concepts."
      ]
    },
    {
      "cell_type": "markdown",
      "id": "95e92a82",
      "metadata": {
        "nbgrader": {
          "grade": false,
          "locked": true,
          "solution": false
        },
        "tags": [
          "exercise_text"
        ],
        "id": "95e92a82"
      },
      "source": [
        "## **Ex. 3 (_FREE_ 2 pts)**: Edge lists ##\n",
        "\n",
        "One way to use NetworkX is to create your graph as an **edge list**, which is a Python list of tuples. Each tuple `(u, v, w)` means that vertex `u` connects to vertex `v` and that this edge from `u` to `v` has a weight `w`.\n",
        "\n",
        "For example, here are the first five elements of an edge list for a randomly generated graph."
      ]
    },
    {
      "cell_type": "code",
      "execution_count": null,
      "id": "76d9ea9c",
      "metadata": {
        "ExecuteTime": {
          "end_time": "2023-03-30T22:24:22.325971Z",
          "start_time": "2023-03-30T22:24:22.300848Z"
        },
        "nbgrader": {
          "grade": false,
          "locked": true,
          "solution": false
        },
        "id": "76d9ea9c"
      },
      "outputs": [],
      "source": [
        "# demo_edge_list = cse6040.utils.random_clusters(4, 6, rng_or_seed=1_234, verbose=True)\n",
        "\n",
        "# print(f\"\\nThe `demo_edge_list` has {len(demo_edge_list)} tuples. The first ten are:\")\n",
        "# demo_edge_list[:10]"
      ]
    },
    {
      "cell_type": "markdown",
      "id": "5d1c6d96",
      "metadata": {
        "nbgrader": {
          "grade": false,
          "locked": true,
          "solution": false
        },
        "id": "5d1c6d96"
      },
      "source": [
        "Let's use NetworkX to draw the graph that this edge list represents.\n",
        "\n",
        "> (We've written wrappers around the corresponding NetworkX routines to hide some unnecessary detail.)"
      ]
    },
    {
      "cell_type": "code",
      "execution_count": null,
      "id": "e7f57058",
      "metadata": {
        "ExecuteTime": {
          "end_time": "2023-03-30T22:24:22.775017Z",
          "start_time": "2023-03-30T22:24:22.327274Z"
        },
        "nbgrader": {
          "grade": false,
          "locked": true,
          "solution": false
        },
        "id": "e7f57058"
      },
      "outputs": [],
      "source": [
        "# from cse6040.utils import to_nx, graph_spy\n",
        "\n",
        "# demo_G = to_nx(demo_edge_list) # Convert edge list to NetworkX graph\n",
        "# graph_spy(demo_G, style='graph', with_labels=True, figsize=(5, 5)); # Draw a picture"
      ]
    },
    {
      "cell_type": "markdown",
      "id": "1e0a3212",
      "metadata": {
        "nbgrader": {
          "grade": false,
          "locked": true,
          "solution": false
        },
        "id": "1e0a3212"
      },
      "source": [
        "In this picture, the numbered circles are vertices and arrows indicate edges that go from one vertex to another. The edges are weighted, so in the picture, edges with \"large\" or \"heavy\" weights are darker and thicker than \"small\" or \"light\" weights.\n",
        "\n",
        "The picture shows clear structure: there appear to be four **clusters** of vertices connected by heavy edges, and between these clusters there are only light edges."
      ]
    },
    {
      "cell_type": "markdown",
      "id": "a90b7bfe",
      "metadata": {
        "nbgrader": {
          "grade": false,
          "locked": true,
          "solution": false
        },
        "id": "a90b7bfe"
      },
      "source": [
        "To summarize, the NetworkX concepts you just saw are:\n",
        "\n",
        "1. To use NetworkX, we need to construct **edge lists**, which are lists of tuples, `(u, v, w)`, where each tuple represents a weighted directed edge from `u` to `v` with weight `w`.\n",
        "2. Our later analysis will look for **clusters** in a given network, which we will build from our data.\n",
        "\n",
        "When you are ready, execute the cell below and submit to be sure your free points for Exercise 3 are recorded."
      ]
    },
    {
      "cell_type": "code",
      "execution_count": null,
      "id": "67f7ff78",
      "metadata": {
        "ExecuteTime": {
          "end_time": "2023-03-30T22:24:22.796984Z",
          "start_time": "2023-03-30T22:24:22.775908Z"
        },
        "nbgrader": {
          "grade": true,
          "grade_id": "ex3",
          "locked": true,
          "points": "2",
          "solution": false
        },
        "tags": [],
        "id": "67f7ff78"
      },
      "outputs": [],
      "source": [
        "# ### test_cell_ex3 — a freebie ###\n",
        "\n",
        "# pass\n",
        "\n",
        "# print('Passed! Please submit.')"
      ]
    },
    {
      "cell_type": "markdown",
      "id": "f8179750",
      "metadata": {
        "nbgrader": {
          "grade": false,
          "locked": true,
          "solution": false
        },
        "id": "f8179750"
      },
      "source": [
        "# Part D: Finding communities via graph clustering #\n",
        "\n",
        "> Includes Exercise 4 (1 point) and Exercise 5 (2 points).\n",
        "\n",
        "**User-user interactions.** Our dataset tells us which users have viewed, read, rated, and/or reviewed the same books. We will use this fact to \"connect\" users to one another in a graph, and then use NetworkX to find clusters (\"communities\") of users."
      ]
    },
    {
      "cell_type": "markdown",
      "id": "36c3de68",
      "metadata": {
        "nbgrader": {
          "grade": false,
          "locked": true,
          "solution": false
        },
        "tags": [
          "exercise_text"
        ],
        "id": "36c3de68"
      },
      "source": [
        "## **Ex. 4 (1 pt)**: `form_analysis_sample` ##\n",
        "\n",
        "If a user gave a book a rating of 4 stars or more, that is a strong signal of interest in the book. Let's start by focusing on those interactions. Complete the following function as specified.\n",
        "\n",
        "```python\n",
        "def form_analysis_sample(conn):\n",
        "    ...\n",
        "```\n",
        "\n",
        "**Inputs:** `conn` is a database connection to a database with an `Interactions` table, as used in Exercises 0 and 1.\n",
        "\n",
        "**Your task:** Return the subset of interactions where the rating is 4 or more.\n",
        "\n",
        "**Outputs:** Return the subset of rows of `Interactions` as a pandas `DataFrame`.\n",
        "\n",
        "**Example.** Recall the demo `Interactions` table from Exercise 1:"
      ]
    },
    {
      "cell_type": "code",
      "execution_count": null,
      "id": "4c9139f1",
      "metadata": {
        "ExecuteTime": {
          "end_time": "2023-03-30T22:24:22.825729Z",
          "start_time": "2023-03-30T22:24:22.802919Z"
        },
        "nbgrader": {
          "grade": false,
          "locked": true,
          "solution": false
        },
        "tags": [
          "demo_data"
        ],
        "id": "4c9139f1"
      },
      "outputs": [],
      "source": [
        "### Define demo inputs ###\n",
        "\n",
        "demo_conn_ex4 = db.connect(f'file:demo_ex1.db?mode=ro', uri=True)\n",
        "display(pd.read_sql(\"SELECT * FROM Interactions\", demo_conn_ex4))\n",
        "\n",
        "# use the naming convention `demo_<parameter name>_ex<exercise number>`\n",
        "# for example if the function for exercise 3 has a parameter `df`, the demo variable should be named `demo_df_ex3`"
      ]
    },
    {
      "cell_type": "markdown",
      "id": "420204c9",
      "metadata": {
        "nbgrader": {
          "grade": false,
          "locked": true,
          "solution": false
        },
        "tags": [
          "demo_output_md"
        ],
        "id": "420204c9"
      },
      "source": [
        "A correct implementation of `form_analysis_sample` should return the following `DataFrame`:\n",
        "\n",
        "|   user_id |        book_id |   is_read |   rating |   is_reviewed |\n",
        "|----------:|---------------:|----------:|---------:|--------------:|\n",
        "|    569241 | 47199          |         1 |        5 |             1 |\n",
        "|    569241 | 47383          |         1 |        5 |             1 |\n",
        "|    604656 | 2345195        |         1 |        5 |             1 |\n",
        "\n",
        "This output includes just the three rows where `rating` is `5`.\n",
        "\n",
        "> **Note:** Although this example does not contain ratings with the value `4`, if it did, they would be included in the output."
      ]
    },
    {
      "cell_type": "code",
      "execution_count": null,
      "id": "2dd4c5c5",
      "metadata": {
        "ExecuteTime": {
          "end_time": "2023-03-30T22:24:22.851333Z",
          "start_time": "2023-03-30T22:24:22.826778Z"
        },
        "tags": [
          "exercise_solution"
        ],
        "id": "2dd4c5c5"
      },
      "outputs": [],
      "source": [
        "### Exercise 4 solution\n",
        "def form_analysis_sample(conn):\n",
        "    ### BEGIN SOLUTION\n",
        "    return pd.read_sql(\"SELECT * FROM Interactions WHERE rating >= 4\", conn)\n",
        "    ### END SOLUTION\n",
        "\n",
        "### demo function call ###\n",
        "form_analysis_sample(demo_conn_ex4)"
      ]
    },
    {
      "cell_type": "markdown",
      "id": "d2bbf2fc",
      "metadata": {
        "nbgrader": {
          "grade": false,
          "locked": true,
          "solution": false
        },
        "tags": [
          "test_data_boilerplate"
        ],
        "id": "d2bbf2fc"
      },
      "source": [
        "<!-- Test Cell Boilerplate -->\n",
        "The cell below will test your solution for Exercise 4. The testing variables will be available for debugging under the following names in a dictionary format.\n",
        "- `input_vars` - Input variables for your solution.\n",
        "- `original_input_vars` - Copy of input variables from prior to running your solution. These _should_ be the same as `input_vars` - otherwise the inputs were modified by your solution.\n",
        "- `returned_output_vars` - Outputs returned by your solution.\n",
        "- `true_output_vars` - The expected output. This _should_ \"match\" `returned_output_vars` based on the question requirements - otherwise, your solution is not returning the correct output."
      ]
    },
    {
      "cell_type": "code",
      "execution_count": null,
      "id": "e3075c04",
      "metadata": {
        "ExecuteTime": {
          "end_time": "2023-03-30T22:24:23.394176Z",
          "start_time": "2023-03-30T22:24:23.129302Z"
        },
        "nbgrader": {
          "grade": true,
          "grade_id": "ex4",
          "locked": true,
          "points": "1",
          "solution": false
        },
        "tags": [],
        "id": "e3075c04"
      },
      "outputs": [],
      "source": [
        "### test_cell_ex4\n",
        "from tester_fw.testers import Tester\n",
        "\n",
        "conf = {\n",
        "    'case_file':'tc_4',\n",
        "    'func': form_analysis_sample, # replace this with the function defined above\n",
        "    'inputs':{ # input config dict. keys are parameter names\n",
        "        'conn':{\n",
        "            'dtype': 'db', # data type of param.\n",
        "            'check_modified': False,\n",
        "        }\n",
        "    },\n",
        "    'outputs':{\n",
        "        'output_0':{\n",
        "            'index':0,\n",
        "            'dtype':'df',\n",
        "            'check_dtype': True,\n",
        "            'check_col_dtypes': True, # Ignored if dtype is not df\n",
        "            'check_col_order': False, # Ignored if dtype is not df\n",
        "            'check_row_order': False, # Ignored if dtype is not df\n",
        "            'float_tolerance': 10 ** (-6)\n",
        "        }\n",
        "    }\n",
        "}\n",
        "tester = Tester(conf, key=b'jpS7W-CpqAQfuITMEQZL-yVXfhIaCkSaei-emnyRtrI=', path='')\n",
        "for _ in range(70):\n",
        "    try:\n",
        "        tester.run_test()\n",
        "        (input_vars, original_input_vars, returned_output_vars, true_output_vars) = tester.get_test_vars()\n",
        "    except:\n",
        "        (input_vars, original_input_vars, returned_output_vars, true_output_vars) = tester.get_test_vars()\n",
        "        raise\n",
        "\n",
        "print('Passed! Please submit.')"
      ]
    },
    {
      "cell_type": "markdown",
      "id": "a9732805",
      "metadata": {
        "nbgrader": {
          "grade": false,
          "locked": true,
          "solution": false
        },
        "id": "a9732805"
      },
      "source": [
        "# Part E: Identifying \"top reads\" by community #\n",
        "\n",
        "> Includes Exercise 6 (2 points), Exercise 7 (1 point), and Exercise 8 (3 points).\n",
        "\n",
        "The NetworkX package contains several algorithms for **detecting communities**, that is, clusters of \"strongly interconnected\" vertices in a graph (recall Part C).\n",
        "\n",
        "We ran one of these algorithms on a graph formed from the user-user interactions you calculated in Part D. The algorithm grouped users (graph vertices) into clusters.\n",
        "\n",
        "It returned these clusters as a **list of sets**, where each set is a \"community\" of user IDs grouped together. Since users were connected for liking the same books, it's possible users in the same community have similar tastes."
      ]
    },
    {
      "cell_type": "markdown",
      "id": "34a69935",
      "metadata": {
        "nbgrader": {
          "grade": false,
          "locked": true,
          "solution": false
        },
        "id": "34a69935"
      },
      "source": [
        "Here is the communities object that NetworkX produced for us:"
      ]
    },
    {
      "cell_type": "code",
      "execution_count": null,
      "id": "c950c9a8",
      "metadata": {
        "ExecuteTime": {
          "end_time": "2023-03-30T22:24:24.534219Z",
          "start_time": "2023-03-30T22:24:24.511725Z"
        },
        "nbgrader": {
          "grade": false,
          "locked": true,
          "solution": false
        },
        "id": "c950c9a8"
      },
      "outputs": [],
      "source": [
        "communities = load_obj_from_file('demo_ex6.obj')"
      ]
    },
    {
      "cell_type": "markdown",
      "id": "f8ed9ba0",
      "metadata": {
        "nbgrader": {
          "grade": false,
          "locked": true,
          "solution": false
        },
        "id": "f8ed9ba0"
      },
      "source": [
        "It is a list of sets:"
      ]
    },
    {
      "cell_type": "code",
      "execution_count": null,
      "id": "29b06503",
      "metadata": {
        "ExecuteTime": {
          "end_time": "2023-03-30T22:24:24.556047Z",
          "start_time": "2023-03-30T22:24:24.535136Z"
        },
        "nbgrader": {
          "grade": false,
          "locked": true,
          "solution": false
        },
        "id": "29b06503"
      },
      "outputs": [],
      "source": [
        "type(communities), type(communities[0])"
      ]
    },
    {
      "cell_type": "markdown",
      "id": "20222583",
      "metadata": {
        "nbgrader": {
          "grade": false,
          "locked": true,
          "solution": false
        },
        "id": "20222583"
      },
      "source": [
        "Here is how many communities there are:"
      ]
    },
    {
      "cell_type": "code",
      "execution_count": null,
      "id": "7a1f0613",
      "metadata": {
        "ExecuteTime": {
          "end_time": "2023-03-30T22:24:24.577895Z",
          "start_time": "2023-03-30T22:24:24.556976Z"
        },
        "nbgrader": {
          "grade": false,
          "locked": true,
          "solution": false
        },
        "id": "7a1f0613"
      },
      "outputs": [],
      "source": [
        "len(communities)"
      ]
    },
    {
      "cell_type": "markdown",
      "id": "107d78a1",
      "metadata": {
        "nbgrader": {
          "grade": false,
          "locked": true,
          "solution": false
        },
        "id": "107d78a1"
      },
      "source": [
        "The sizes of the 6 communities are:"
      ]
    },
    {
      "cell_type": "code",
      "execution_count": null,
      "id": "00ce3700",
      "metadata": {
        "ExecuteTime": {
          "end_time": "2023-03-30T22:24:24.600227Z",
          "start_time": "2023-03-30T22:24:24.578907Z"
        },
        "nbgrader": {
          "grade": false,
          "locked": true,
          "solution": false
        },
        "id": "00ce3700"
      },
      "outputs": [],
      "source": [
        "[len(c) for c in communities]"
      ]
    },
    {
      "cell_type": "markdown",
      "id": "80d2b76f",
      "metadata": {
        "nbgrader": {
          "grade": false,
          "locked": true,
          "solution": false
        },
        "id": "80d2b76f"
      },
      "source": [
        "Let's print the smaller two:"
      ]
    },
    {
      "cell_type": "code",
      "execution_count": null,
      "id": "4e275a8c",
      "metadata": {
        "ExecuteTime": {
          "end_time": "2023-03-30T22:24:24.622391Z",
          "start_time": "2023-03-30T22:24:24.601206Z"
        },
        "nbgrader": {
          "grade": false,
          "locked": true,
          "solution": false
        },
        "id": "4e275a8c"
      },
      "outputs": [],
      "source": [
        "print(\"Community 1:\", communities[1])\n",
        "print(\"Community 4:\", communities[4])"
      ]
    },
    {
      "cell_type": "markdown",
      "id": "b3cbb24b",
      "metadata": {
        "nbgrader": {
          "grade": false,
          "locked": true,
          "solution": false
        },
        "id": "b3cbb24b"
      },
      "source": [
        "The values you see are user IDs."
      ]
    },
    {
      "cell_type": "markdown",
      "id": "9a97fd09",
      "metadata": {
        "nbgrader": {
          "grade": false,
          "locked": true,
          "solution": false
        },
        "tags": [
          "exercise_text"
        ],
        "id": "9a97fd09"
      },
      "source": [
        "## **Ex. 6 (2 pts)**: `assign_communities` ##\n",
        "\n",
        "To merge this data with our existing database, we need to convert the Python `communities` data structure into a `DataFrame`. Complete the function below to aid in this task:\n",
        "\n",
        "```python\n",
        "def assign_communities(communities):\n",
        "    ...\n",
        "```\n",
        "\n",
        "**Inputs:** The input `communities` is a list of sets of integers, as in the previous example.\n",
        "\n",
        "**Your task:** Convert this input into a dataframe.\n",
        "\n",
        "**Returns:** Your function should return a `DataFrame` with these columns:\n",
        "- `user_id`: A user ID (an integer).\n",
        "- `comm_id`: The ID of the community it belongs to (also an integer).\n",
        "\n",
        "The community ID is its index in `communities`. That is, community `0` is stored in `communities[0]`, community `1` is in `communities[1]`, and so on.\n",
        "\n",
        "**Example:** Consider this set of communities:"
      ]
    },
    {
      "cell_type": "code",
      "execution_count": null,
      "id": "d6e28c1d",
      "metadata": {
        "ExecuteTime": {
          "end_time": "2023-03-30T22:24:24.643915Z",
          "start_time": "2023-03-30T22:24:24.623480Z"
        },
        "nbgrader": {
          "grade": false,
          "locked": true,
          "solution": false
        },
        "tags": [
          "demo_data"
        ],
        "id": "d6e28c1d"
      },
      "outputs": [],
      "source": [
        "### Define demo inputs ###\n",
        "\n",
        "demo_communities_ex6 = [{1, 3, 10, 17}, {2, 6, 13, 15}, {0, 5, 11, 16}, {9, 14}, {4, 7, 8, 12}]"
      ]
    },
    {
      "cell_type": "markdown",
      "id": "d939530a",
      "metadata": {
        "nbgrader": {
          "grade": false,
          "locked": true,
          "solution": false
        },
        "tags": [
          "demo_output_md"
        ],
        "id": "d939530a"
      },
      "source": [
        "A correct implementation of `assign_communities` would produce this result:\n",
        "\n",
        "|   user_id |   comm_id |\n",
        "|----------:|----------:|\n",
        "|         1 |         0 |\n",
        "|        10 |         0 |\n",
        "|         3 |         0 |\n",
        "|        17 |         0 |\n",
        "|         2 |         1 |\n",
        "|        13 |         1 |\n",
        "|         6 |         1 |\n",
        "|        15 |         1 |\n",
        "|         0 |         2 |\n",
        "|        16 |         2 |\n",
        "|        11 |         2 |\n",
        "|         5 |         2 |\n",
        "|         9 |         3 |\n",
        "|        14 |         3 |\n",
        "|         8 |         4 |\n",
        "|         4 |         4 |\n",
        "|        12 |         4 |\n",
        "|         7 |         4 |"
      ]
    },
    {
      "cell_type": "code",
      "execution_count": null,
      "id": "d976391f",
      "metadata": {
        "ExecuteTime": {
          "end_time": "2023-03-30T22:24:24.668156Z",
          "start_time": "2023-03-30T22:24:24.644950Z"
        },
        "tags": [
          "exercise_solution"
        ],
        "id": "d976391f"
      },
      "outputs": [],
      "source": [
        "### Exercise 6 solution\n",
        "def assign_communities(communities):\n",
        "    ### BEGIN SOLUTION\n",
        "    from pandas import DataFrame\n",
        "    all_uids = []\n",
        "    all_cids = []\n",
        "    for cid, uids in enumerate(communities):\n",
        "        all_uids += list(uids)\n",
        "        all_cids += [cid] * len(uids)\n",
        "    return DataFrame({'user_id': all_uids, 'comm_id': all_cids})\n",
        "    ### END SOLUTION\n",
        "\n",
        "### demo function call ###\n",
        "assign_communities(demo_communities_ex6)"
      ]
    },
    {
      "cell_type": "markdown",
      "id": "aa28c593",
      "metadata": {
        "nbgrader": {
          "grade": false,
          "locked": true,
          "solution": false
        },
        "tags": [
          "test_data_boilerplate"
        ],
        "id": "aa28c593"
      },
      "source": [
        "<!-- Test Cell Boilerplate -->\n",
        "The cell below will test your solution for Exercise 6. The testing variables will be available for debugging under the following names in a dictionary format.\n",
        "- `input_vars` - Input variables for your solution.\n",
        "- `original_input_vars` - Copy of input variables from prior to running your solution. These _should_ be the same as `input_vars` - otherwise the inputs were modified by your solution.\n",
        "- `returned_output_vars` - Outputs returned by your solution.\n",
        "- `true_output_vars` - The expected output. This _should_ \"match\" `returned_output_vars` based on the question requirements - otherwise, your solution is not returning the correct output."
      ]
    },
    {
      "cell_type": "code",
      "execution_count": null,
      "id": "49ea2127",
      "metadata": {
        "ExecuteTime": {
          "end_time": "2023-03-30T22:24:24.930074Z",
          "start_time": "2023-03-30T22:24:24.769670Z"
        },
        "nbgrader": {
          "grade": true,
          "grade_id": "ex6",
          "locked": true,
          "points": "2",
          "solution": false
        },
        "tags": [],
        "id": "49ea2127"
      },
      "outputs": [],
      "source": [
        "### test_cell_ex6\n",
        "from tester_fw.testers import Tester\n",
        "\n",
        "conf = {\n",
        "    'case_file':'tc_6',\n",
        "    'func': assign_communities, # replace this with the function defined above\n",
        "    'inputs':{ # input config dict. keys are parameter names\n",
        "        'communities': {\n",
        "            'dtype': 'list', # data type of param.\n",
        "            'check_modified': True,\n",
        "        }\n",
        "    },\n",
        "    'outputs':{\n",
        "        'output_0':{\n",
        "            'index': 0,\n",
        "            'dtype': 'df',\n",
        "            'check_dtype': True,\n",
        "            'check_col_dtypes': True, # Ignored if dtype is not df\n",
        "            'check_col_order': False, # Ignored if dtype is not df\n",
        "            'check_row_order': False, # Ignored if dtype is not df\n",
        "            'float_tolerance': 10 ** (-6)\n",
        "        }\n",
        "    }\n",
        "}\n",
        "tester = Tester(conf, key=b'jpS7W-CpqAQfuITMEQZL-yVXfhIaCkSaei-emnyRtrI=', path='')\n",
        "for _ in range(70):\n",
        "    try:\n",
        "        tester.run_test()\n",
        "        (input_vars, original_input_vars, returned_output_vars, true_output_vars) = tester.get_test_vars()\n",
        "    except:\n",
        "        (input_vars, original_input_vars, returned_output_vars, true_output_vars) = tester.get_test_vars()\n",
        "        raise\n",
        "\n",
        "print('Passed! Please submit.')"
      ]
    },
    {
      "cell_type": "markdown",
      "id": "c5b797ff",
      "metadata": {
        "nbgrader": {
          "grade": false,
          "locked": true,
          "solution": false
        },
        "tags": [
          "exercise_text"
        ],
        "id": "c5b797ff"
      },
      "source": [
        "## **Ex. 7 (1 pt)**: `means_by_community` ##\n",
        "\n",
        "Suppose we wish to calculate means (averages) of the interaction data _by community._ Implement the function,\n",
        "\n",
        "```python\n",
        "def means_by_community(intdf, comdf):\n",
        "    ...\n",
        "```\n",
        "\n",
        "to perform this task.\n",
        "\n",
        "**Inputs:**\n",
        "1. `intdf`: An interactions `DataFrame` with columns `user_id`, `book_id`, `is_read`, `rating`, and `is_reviewed`.\n",
        "1. `comdf`: A communities `DataFrame` with columns `user_id` and `comm_id`.\n",
        "\n",
        "**Your task:** Join these `DataFrames` and then return a new `DataFrame` with the mean values of the `is_read`, `rating`, and `is_reviewed` columns **by community.**\n",
        "\n",
        "**Outputs:** Your function should return a new `DataFrame` with these columns:\n",
        "1. `comm_id`: An integer community ID, one per row.\n",
        "2. `is_read`, `rating`, `is_reviewed`: The mean value of each column for all rows of `intdf` for all users of the community. These should be stored as `float` values.\n",
        "\n",
        "**Additional notes:** A user ID might not appear in both inputs. These should not be part of any means calculation.\n",
        "\n",
        "**Example:** Consider the following two inputs:"
      ]
    },
    {
      "cell_type": "code",
      "execution_count": null,
      "id": "15877dc6",
      "metadata": {
        "ExecuteTime": {
          "end_time": "2023-03-30T22:24:24.958213Z",
          "start_time": "2023-03-30T22:24:24.931043Z"
        },
        "nbgrader": {
          "grade": false,
          "locked": true,
          "solution": false
        },
        "tags": [
          "demo_data"
        ],
        "id": "15877dc6"
      },
      "outputs": [],
      "source": [
        "### Define demo inputs ###\n",
        "\n",
        "demo_intdf_ex7 = load_table_from_db(\"Interactions\", \"demo_ex7.db\").sort_values(by='user_id')\n",
        "demo_comdf_ex7 = load_table_from_db(\"Communities\", \"demo_ex7.db\").sort_values(by='user_id')\n",
        "\n",
        "display(demo_intdf_ex7)\n",
        "display(demo_comdf_ex7)"
      ]
    },
    {
      "cell_type": "markdown",
      "id": "65861ce8",
      "metadata": {
        "nbgrader": {
          "grade": false,
          "locked": true,
          "solution": false
        },
        "tags": [
          "demo_output_md"
        ],
        "id": "65861ce8"
      },
      "source": [
        "A correct implementation of `means_by_community` will return:\n",
        "\n",
        "|   comm_id |   is_read |   rating |   is_reviewed |\n",
        "|----------:|----------:|---------:|--------------:|\n",
        "|         0 |         1 |      4.5 |             0 |\n",
        "|         3 |         1 |      5   |             0 |\n",
        "|         5 |         1 |      5   |             0 |\n",
        "\n",
        "Observe that user `34369` does not belong to any community. Therefore, none of the final averages should be affected by that user's data."
      ]
    },
    {
      "cell_type": "code",
      "execution_count": null,
      "id": "99c3fab1",
      "metadata": {
        "ExecuteTime": {
          "end_time": "2023-03-30T22:24:24.987641Z",
          "start_time": "2023-03-30T22:24:24.959262Z"
        },
        "tags": [
          "exercise_solution"
        ],
        "id": "99c3fab1"
      },
      "outputs": [],
      "source": [
        "### Exercise 7 solution\n",
        "def means_by_community(intdf, comdf):\n",
        "    ### BEGIN SOLUTION\n",
        "    VALUES = ['is_read', 'rating', 'is_reviewed']\n",
        "    df = intdf.merge(comdf, on='user_id')\n",
        "    df = df.groupby('comm_id')[VALUES].mean().reset_index()\n",
        "    for c in VALUES:\n",
        "        df[c] = df[c].astype(float) # paranoia?\n",
        "    return df\n",
        "    ### END SOLUTION\n",
        "\n",
        "### demo function call ###\n",
        "demo_result_ex7 = means_by_community(demo_intdf_ex7, demo_comdf_ex7)\n",
        "display(demo_result_ex7)"
      ]
    },
    {
      "cell_type": "markdown",
      "id": "9aa7cafe",
      "metadata": {
        "nbgrader": {
          "grade": false,
          "locked": true,
          "solution": false
        },
        "tags": [
          "test_data_boilerplate"
        ],
        "id": "9aa7cafe"
      },
      "source": [
        "<!-- Test Cell Boilerplate -->\n",
        "The cell below will test your solution for Exercise 7. The testing variables will be available for debugging under the following names in a dictionary format.\n",
        "- `input_vars` - Input variables for your solution.\n",
        "- `original_input_vars` - Copy of input variables from prior to running your solution. These _should_ be the same as `input_vars` - otherwise the inputs were modified by your solution.\n",
        "- `returned_output_vars` - Outputs returned by your solution.\n",
        "- `true_output_vars` - The expected output. This _should_ \"match\" `returned_output_vars` based on the question requirements - otherwise, your solution is not returning the correct output."
      ]
    },
    {
      "cell_type": "code",
      "execution_count": null,
      "id": "a99a587d",
      "metadata": {
        "ExecuteTime": {
          "end_time": "2023-03-30T22:24:26.372224Z",
          "start_time": "2023-03-30T22:24:25.954786Z"
        },
        "nbgrader": {
          "grade": true,
          "grade_id": "ex7",
          "locked": true,
          "points": "1",
          "solution": false
        },
        "tags": [],
        "id": "a99a587d"
      },
      "outputs": [],
      "source": [
        "### test_cell_ex7\n",
        "from tester_fw.testers import Tester\n",
        "\n",
        "conf = {\n",
        "    'case_file':'tc_7',\n",
        "    'func': means_by_community, # replace this with the function defined above\n",
        "    'inputs':{ # input config dict. keys are parameter names\n",
        "        'intdf': {\n",
        "            'dtype': 'df', # data type of param.\n",
        "            'check_modified': True,\n",
        "        },\n",
        "        'comdf': {\n",
        "            'dtype': 'df',\n",
        "            'check_modified': True\n",
        "        }\n",
        "    },\n",
        "    'outputs':{\n",
        "        'output_0':{\n",
        "            'index': 0,\n",
        "            'dtype': 'df',\n",
        "            'check_dtype': True,\n",
        "            'check_col_dtypes': True, # Ignored if dtype is not df\n",
        "            'check_col_order': False, # Ignored if dtype is not df\n",
        "            'check_row_order': False, # Ignored if dtype is not df\n",
        "            'float_tolerance': 10 ** (-6)\n",
        "        }\n",
        "    }\n",
        "}\n",
        "tester = Tester(conf, key=b'jpS7W-CpqAQfuITMEQZL-yVXfhIaCkSaei-emnyRtrI=', path='')\n",
        "for _ in range(70):\n",
        "    try:\n",
        "        tester.run_test()\n",
        "        (input_vars, original_input_vars, returned_output_vars, true_output_vars) = tester.get_test_vars()\n",
        "    except:\n",
        "        (input_vars, original_input_vars, returned_output_vars, true_output_vars) = tester.get_test_vars()\n",
        "        raise\n",
        "\n",
        "print('Passed! Please submit.')"
      ]
    },
    {
      "cell_type": "markdown",
      "id": "90a0500e",
      "metadata": {
        "nbgrader": {
          "grade": false,
          "locked": true,
          "solution": false
        },
        "id": "90a0500e"
      },
      "source": [
        "**RUN ME:** With a correct `means_by_community`, we can see whether the communities differ in how they read, rate, and review books. Here is what would happen if we ran on the full dataset:"
      ]
    },
    {
      "cell_type": "code",
      "execution_count": null,
      "id": "d3dfd188",
      "metadata": {
        "ExecuteTime": {
          "end_time": "2023-03-30T22:24:26.397280Z",
          "start_time": "2023-03-30T22:24:26.373248Z"
        },
        "nbgrader": {
          "grade": false,
          "locked": true,
          "solution": false
        },
        "id": "d3dfd188"
      },
      "outputs": [],
      "source": [
        "ex7_means = load_df_from_file('ex7-means.df')\n",
        "print(f\"Recall: community sizes: {[(k, len(c)) for k, c in enumerate(communities)]}\")\n",
        "ex7_means"
      ]
    }
  ],
  "metadata": {
    "interpreter": {
      "hash": "f2b38b6e01547e8f771d473ea2b8718fd0728eea782e4c924ed8783f739d4a6c"
    },
    "kernelspec": {
      "display_name": "Python 3 (ipykernel)",
      "language": "python",
      "name": "python3"
    },
    "language_info": {
      "codemirror_mode": {
        "name": "ipython",
        "version": 3
      },
      "file_extension": ".py",
      "mimetype": "text/x-python",
      "name": "python",
      "nbconvert_exporter": "python",
      "pygments_lexer": "ipython3",
      "version": "3.9.13"
    },
    "toc": {
      "base_numbering": 1,
      "nav_menu": {},
      "number_sections": true,
      "sideBar": true,
      "skip_h1_title": false,
      "title_cell": "Table of Contents",
      "title_sidebar": "Contents",
      "toc_cell": false,
      "toc_position": {
        "height": "calc(100% - 180px)",
        "left": "10px",
        "top": "150px",
        "width": "292.8px"
      },
      "toc_section_display": true,
      "toc_window_display": true
    },
    "colab": {
      "provenance": [],
      "include_colab_link": true
    }
  },
  "nbformat": 4,
  "nbformat_minor": 5
}